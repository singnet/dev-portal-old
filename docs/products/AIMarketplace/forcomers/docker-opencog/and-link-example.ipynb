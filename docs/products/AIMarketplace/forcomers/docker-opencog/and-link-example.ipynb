{
 "cells": [
  {
   "cell_type": "markdown",
   "metadata": {},
   "source": [
    "## AndLink and EvaluationLink examples"
   ]
  },
  {
   "cell_type": "code",
   "execution_count": null,
   "metadata": {},
   "outputs": [],
   "source": [
    "import common\n",
    "from opencog.utilities import initialize_opencog\n",
    "from opencog.atomspace import AtomSpace, types\n",
    "from opencog.type_constructors import *\n",
    "from opencog.bindlink import bindlink\n",
    "from opencog.bindlink import execute_atom"
   ]
  },
  {
   "cell_type": "markdown",
   "metadata": {},
   "source": [
    "create atomspace and set it as default"
   ]
  },
  {
   "cell_type": "code",
   "execution_count": null,
   "metadata": {},
   "outputs": [],
   "source": [
    "atomspace = AtomSpace()\n",
    "initialize_opencog(atomspace)"
   ]
  },
  {
   "cell_type": "markdown",
   "metadata": {},
   "source": [
    "### knowledge base"
   ]
  },
  {
   "cell_type": "markdown",
   "metadata": {},
   "source": [
    "Color and size are attributes"
   ]
  },
  {
   "cell_type": "code",
   "execution_count": null,
   "metadata": {},
   "outputs": [],
   "source": [
    "InheritanceLink(ConceptNode(\"size\"), ConceptNode(\"attribute\"))\n",
    "InheritanceLink(ConceptNode(\"color\"), ConceptNode(\"attribute\"))"
   ]
  },
  {
   "cell_type": "markdown",
   "metadata": {},
   "source": [
    "different types of color and size"
   ]
  },
  {
   "cell_type": "code",
   "execution_count": null,
   "metadata": {},
   "outputs": [],
   "source": [
    "InheritanceLink(ConceptNode(\"small\"), ConceptNode(\"size\"))\n",
    "InheritanceLink(ConceptNode(\"big\"), ConceptNode(\"size\"))\n",
    "InheritanceLink(ConceptNode(\"green\"), ConceptNode(\"color\"))\n",
    "InheritanceLink(ConceptNode(\"red\"), ConceptNode(\"color\"))\n",
    "InheritanceLink(ConceptNode(\"black\"), ConceptNode(\"color\"))"
   ]
  },
  {
   "cell_type": "markdown",
   "metadata": {},
   "source": [
    "animals which have some attributes defined"
   ]
  },
  {
   "cell_type": "code",
   "execution_count": null,
   "metadata": {},
   "outputs": [],
   "source": [
    "InheritanceLink(ConceptNode(\"frog\"), ConceptNode(\"small\")).tv = TruthValue(0.8, 0.9)\n",
    "InheritanceLink(ConceptNode(\"frog\"), ConceptNode(\"green\")).tv = TruthValue(0.7, 0.9)\n",
    "InheritanceLink(ConceptNode(\"tiger\"), ConceptNode(\"big\")).tv = TruthValue(0.9, 0.9)\n",
    "InheritanceLink(ConceptNode(\"tiger\"), ConceptNode(\"red\")).tv = TruthValue(0.6, 0.9)\n",
    "InheritanceLink(ConceptNode(\"sparrow\"), ConceptNode(\"red\")).tv = TruthValue(0.1, 0.9)\n",
    "InheritanceLink(ConceptNode(\"sparrow\"), ConceptNode(\"small\")).tv = TruthValue(0.8, 0.9)\n",
    "InheritanceLink(ConceptNode(\"zebra\"), ConceptNode(\"black\")).tv = TruthValue(0.5, 0.9)\n",
    "InheritanceLink(ConceptNode(\"zebra\"), ConceptNode(\"small\")).tv = TruthValue(0.38, 0.9)"
   ]
  },
  {
   "cell_type": "markdown",
   "metadata": {},
   "source": [
    "Define that all animals are actually animals"
   ]
  },
  {
   "cell_type": "code",
   "execution_count": null,
   "metadata": {},
   "outputs": [],
   "source": [
    "InheritanceLink(ConceptNode(\"frog\"), ConceptNode(\"animal\"))\n",
    "InheritanceLink(ConceptNode(\"frog\"), ConceptNode(\"animal\"))\n",
    "InheritanceLink(ConceptNode(\"tiger\"), ConceptNode(\"animal\"))\n",
    "InheritanceLink(ConceptNode(\"tiger\"), ConceptNode(\"animal\"))\n",
    "InheritanceLink(ConceptNode(\"sparrow\"), ConceptNode(\"animal\"))\n",
    "InheritanceLink(ConceptNode(\"sparrow\"), ConceptNode(\"animal\"))\n",
    "InheritanceLink(ConceptNode(\"zebra\"), ConceptNode(\"animal\"))\n",
    "InheritanceLink(ConceptNode(\"zebra\"), ConceptNode(\"animal\"))"
   ]
  },
  {
   "cell_type": "markdown",
   "metadata": {},
   "source": [
    "**Query example**  \n",
    "let's select all animals and attributes, filtering by some threshold\n"
   ]
  },
  {
   "cell_type": "markdown",
   "metadata": {},
   "source": [
    "first define function and EvaluationLink"
   ]
  },
  {
   "cell_type": "code",
   "execution_count": null,
   "metadata": {},
   "outputs": [],
   "source": [
    "threshold = 0.6\n",
    "\n",
    "def apply_threshold(atom):\n",
    "    if atom.tv.mean < threshold:\n",
    "        return TruthValue(0, 1)\n",
    "    return TruthValue(1, 1)"
   ]
  },
  {
   "cell_type": "markdown",
   "metadata": {},
   "source": [
    "EvaluationLink will accept link    X <- Z  \n",
    "and return flag if it \"matches\""
   ]
  },
  {
   "cell_type": "code",
   "execution_count": null,
   "metadata": {},
   "outputs": [],
   "source": [
    "inherits_property = InheritanceLink(VariableNode(\"X\"), VariableNode(\"Z\"))\n",
    "\n",
    "# all Variables(X and Z) used in EvaluationLink should be grounded somewhere else first!\n",
    "# eval link which provides filtering\n",
    "eval_threshold = EvaluationLink(\n",
    "                    GroundedPredicateNode(\"py: apply_threshold\"),\n",
    "                    ListLink(inherits_property))"
   ]
  },
  {
   "cell_type": "markdown",
   "metadata": {},
   "source": [
    "### now build the BindLink"
   ]
  },
  {
   "cell_type": "markdown",
   "metadata": {},
   "source": [
    "Constrain that Variable \"X\" inherits from \"item\""
   ]
  },
  {
   "cell_type": "code",
   "execution_count": null,
   "metadata": {},
   "outputs": [],
   "source": [
    "select_items = InheritanceLink(VariableNode(\"X\"), ConceptNode(\"animal\"))"
   ]
  },
  {
   "cell_type": "code",
   "execution_count": null,
   "metadata": {},
   "outputs": [],
   "source": [
    "# using NotLink\n",
    "Z_is_not_item = NotLink(IdenticalLink(VariableNode(\"Z\"), ConceptNode(\"animal\")))"
   ]
  },
  {
   "cell_type": "code",
   "execution_count": null,
   "metadata": {},
   "outputs": [],
   "source": [
    "and_link = AndLink(eval_threshold, inherits_property, Z_is_not_item, select_items)\n",
    "bindlink_filter = BindLink(and_link,\n",
    "                           inherits_property)\n",
    "\n",
    "\n",
    "print(bindlink(atomspace, bindlink_filter))"
   ]
  },
  {
   "cell_type": "code",
   "execution_count": null,
   "metadata": {},
   "outputs": [],
   "source": []
  },
  {
   "cell_type": "markdown",
   "metadata": {},
   "source": [
    "## Exercise: remove Z_is_not_item from condition"
   ]
  }
 ],
 "metadata": {
  "kernelspec": {
   "display_name": "Python 3",
   "language": "python",
   "name": "python3"
  },
  "language_info": {
   "codemirror_mode": {
    "name": "ipython",
    "version": 3
   },
   "file_extension": ".py",
   "mimetype": "text/x-python",
   "name": "python",
   "nbconvert_exporter": "python",
   "pygments_lexer": "ipython3",
   "version": "3.5.6"
  }
 },
 "nbformat": 4,
 "nbformat_minor": 2
}

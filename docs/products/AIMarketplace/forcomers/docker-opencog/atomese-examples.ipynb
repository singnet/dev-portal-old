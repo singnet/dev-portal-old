{
 "cells": [
  {
   "cell_type": "markdown",
   "metadata": {},
   "source": [
    "## Basic atomese examples"
   ]
  },
  {
   "cell_type": "code",
   "execution_count": null,
   "metadata": {},
   "outputs": [],
   "source": [
    "import common\n",
    "from opencog.utilities import initialize_opencog\n",
    "from opencog.atomspace import AtomSpace, types\n",
    "from opencog.type_constructors import *\n",
    "from opencog.bindlink import bindlink\n",
    "from opencog.bindlink import execute_atom"
   ]
  },
  {
   "cell_type": "markdown",
   "metadata": {},
   "source": [
    "Make a new atomspace  \n",
    "Atomspace is a hypergraph database  \n",
    "which can store nodes, links and associated values"
   ]
  },
  {
   "cell_type": "code",
   "execution_count": null,
   "metadata": {},
   "outputs": [],
   "source": [
    "atomspace = AtomSpace()"
   ]
  },
  {
   "cell_type": "markdown",
   "metadata": {},
   "source": [
    "add concept node  \n",
    "Nodes destingueshed by type and name and are immutable"
   ]
  },
  {
   "cell_type": "code",
   "execution_count": null,
   "metadata": {},
   "outputs": [],
   "source": [
    "atomspace.add_node(types.ConceptNode, \"small\")"
   ]
  },
  {
   "cell_type": "markdown",
   "metadata": {},
   "source": [
    "set default atomspace to add atoms to"
   ]
  },
  {
   "cell_type": "code",
   "execution_count": null,
   "metadata": {},
   "outputs": [],
   "source": [
    "initialize_opencog(atomspace)"
   ]
  },
  {
   "cell_type": "markdown",
   "metadata": {},
   "source": [
    "adding node one more time doesn't modify anything"
   ]
  },
  {
   "cell_type": "code",
   "execution_count": null,
   "metadata": {},
   "outputs": [],
   "source": [
    "ConceptNode(\"small\")"
   ]
  },
  {
   "cell_type": "markdown",
   "metadata": {},
   "source": [
    "every Atom(nodes or links) has incoming and outgoing sets"
   ]
  },
  {
   "cell_type": "code",
   "execution_count": null,
   "metadata": {},
   "outputs": [],
   "source": [
    "print('ConceptNode(\"size\").incoming:')\n",
    "print(ConceptNode(\"size\").incoming)"
   ]
  },
  {
   "cell_type": "markdown",
   "metadata": {},
   "source": [
    "every Atom has default tv:"
   ]
  },
  {
   "cell_type": "code",
   "execution_count": null,
   "metadata": {},
   "outputs": [],
   "source": [
    "link = InheritanceLink(ConceptNode(\"small\"), ConceptNode(\"size\"))\n",
    "print(\"create link {0}\\n\".format(link))\n",
    "\n",
    "print(link.tv)"
   ]
  },
  {
   "cell_type": "markdown",
   "metadata": {},
   "source": [
    "setting new TruthValue"
   ]
  },
  {
   "cell_type": "code",
   "execution_count": null,
   "metadata": {},
   "outputs": [],
   "source": [
    "link.tv = TruthValue(0.9, 0.9)"
   ]
  },
  {
   "cell_type": "markdown",
   "metadata": {},
   "source": [
    "Outgoing set of a link is set of Atoms it connects"
   ]
  },
  {
   "cell_type": "code",
   "execution_count": null,
   "metadata": {},
   "outputs": [],
   "source": [
    "print(link)\n",
    "print('outgoing set of the link:')\n",
    "print(link.out)"
   ]
  },
  {
   "cell_type": "markdown",
   "metadata": {},
   "source": [
    "Let's put the InheritanceLink into a ListLink  \n",
    "ListLink is just ordered List of atoms"
   ]
  },
  {
   "cell_type": "code",
   "execution_count": null,
   "metadata": {},
   "outputs": [],
   "source": [
    "ListLink(link)"
   ]
  },
  {
   "cell_type": "code",
   "execution_count": null,
   "metadata": {},
   "outputs": [],
   "source": [
    "print('incoming set of the link:')\n",
    "print(link.incoming)"
   ]
  },
  {
   "cell_type": "markdown",
   "metadata": {},
   "source": [
    "While incoming set of Atom is set of links pointing to it"
   ]
  },
  {
   "cell_type": "code",
   "execution_count": null,
   "metadata": {},
   "outputs": [],
   "source": [
    "print('\\n incoming set of ConceptNode(\"size\")')\n",
    "print(ConceptNode(\"size\").incoming)"
   ]
  },
  {
   "cell_type": "markdown",
   "metadata": {},
   "source": [
    "Thus outgoing set of Nodes are empty"
   ]
  },
  {
   "cell_type": "code",
   "execution_count": null,
   "metadata": {},
   "outputs": [],
   "source": [
    "ConceptNode(\"size\").out"
   ]
  },
  {
   "cell_type": "markdown",
   "metadata": {},
   "source": [
    "Let's take a look at BindLink  \n",
    "Semantics of BindLink is  \n",
    "\"do something if pattern matches and return the result\""
   ]
  },
  {
   "cell_type": "markdown",
   "metadata": {},
   "source": [
    "**Bindlink structure**\n",
    "1. VariableList - optional  \n",
    "2. pattern to match - small atomspace subgraph possibly     \n",
    "   containing variables \n",
    "3. Rewrite term \n",
    "\n",
    "If pattern doesn't contain variable you already know the result"
   ]
  },
  {
   "cell_type": "markdown",
   "metadata": {},
   "source": [
    "Our condition will be InheritanceLink between  two variables  \n",
    "So pattern matcher will try to replace VariableNodes with other Atoms"
   ]
  },
  {
   "cell_type": "code",
   "execution_count": null,
   "metadata": {},
   "outputs": [],
   "source": [
    "pattern = InheritanceLink(VariableNode(\"X\"), VariableNode(\"Y\"))"
   ]
  },
  {
   "cell_type": "markdown",
   "metadata": {},
   "source": [
    "Let's return the same link which is matched in pattern"
   ]
  },
  {
   "cell_type": "code",
   "execution_count": null,
   "metadata": {},
   "outputs": [],
   "source": [
    "bindlink1 = BindLink(pattern, pattern)\n",
    "print(str(bindlink1))"
   ]
  },
  {
   "cell_type": "markdown",
   "metadata": {},
   "source": [
    "BindLink constructor doesn't execute anything  \n",
    "There is interface function for pattern matcher  \n",
    "\"bindlink\" which accepts atomspace to apply bindlink to  \n",
    "and bindlink itself"
   ]
  },
  {
   "cell_type": "code",
   "execution_count": null,
   "metadata": {},
   "outputs": [],
   "source": [
    "print(\"running bindlink\")\n",
    "print(\"result: \\n{0}\".format(bindlink(atomspace, bindlink1)))"
   ]
  },
  {
   "cell_type": "markdown",
   "metadata": {},
   "source": [
    "______________________________________________________\n",
    "Another usefull type of link is ExecutionOutputLink  \n",
    "which used to run callback function on matched pattern  \n",
    "ExecutionOutputLink should return Atom"
   ]
  },
  {
   "cell_type": "markdown",
   "metadata": {},
   "source": [
    "\n",
    "**ExecutionOutputLink structure**\n",
    "1. GroundedSchemaNode\n",
    "2. ListLink of arguments"
   ]
  },
  {
   "cell_type": "markdown",
   "metadata": {},
   "source": [
    "let's define a callback function which returns a ConceptNode"
   ]
  },
  {
   "cell_type": "code",
   "execution_count": null,
   "metadata": {},
   "outputs": [],
   "source": [
    "def add_node():\n",
    "    return ConceptNode(\"Test\")"
   ]
  },
  {
   "cell_type": "markdown",
   "metadata": {},
   "source": [
    "Now GroundedSchemaNode which accepts string of following format  \n",
    "\"&lt;language&gt;:&lt;function name&gt;\"\n",
    "\n",
    "\n",
    "where language can be any of \"lib\", \"py\", \"scm\"\n",
    "\n",
    "In case of lib atomspace will try to open library with dlopen  \n",
    "so any shared library may be used"
   ]
  },
  {
   "cell_type": "code",
   "execution_count": null,
   "metadata": {},
   "outputs": [],
   "source": [
    "add_node_schema = GroundedSchemaNode(\"py: add_node\")"
   ]
  },
  {
   "cell_type": "markdown",
   "metadata": {},
   "source": [
    "Now make Execution output link"
   ]
  },
  {
   "cell_type": "code",
   "execution_count": null,
   "metadata": {},
   "outputs": [],
   "source": [
    "exec1 = ExecutionOutputLink(\n",
    "         add_node_schema,\n",
    "         ListLink())\n"
   ]
  },
  {
   "cell_type": "markdown",
   "metadata": {},
   "source": [
    "ExecutionOutputLink may be used inside of bindlink or  \n",
    "it may be executed by execute_atom function"
   ]
  },
  {
   "cell_type": "code",
   "execution_count": null,
   "metadata": {},
   "outputs": [],
   "source": [
    "print(\"running ExecutionOutputLink\")\n",
    "print(execute_atom(atomspace, exec1))"
   ]
  },
  {
   "cell_type": "markdown",
   "metadata": {},
   "source": [
    "ExecutionOutputLinks may be nested(actually any links may)"
   ]
  },
  {
   "cell_type": "code",
   "execution_count": null,
   "metadata": {},
   "outputs": [],
   "source": [
    "print(\"nested ExectutionOutputLinks\")\n",
    "\n",
    "def add_link(node):\n",
    "    ev = EvaluationLink(\n",
    "           PredicateNode(\"ok\"),\n",
    "           node)\n",
    "    ev.tv = TruthValue(0.1, 0.8)\n",
    "    return ev\n",
    "\n",
    "exec2 = ExecutionOutputLink(\n",
    "           GroundedSchemaNode(\"py: add_link\"),\n",
    "           ListLink(\n",
    "             ExecutionOutputLink(\n",
    "                 GroundedSchemaNode(\"py: add_node\"),\n",
    "                 ListLink()))\n",
    "        )\n",
    "\n",
    "print(execute_atom(atomspace, exec2))\n",
    "\n"
   ]
  },
  {
   "cell_type": "markdown",
   "metadata": {},
   "source": [
    "Exercise: print incoming set of (InheritanceLink (ConceptNode \"small\") (ConceptNode \"size\") )  \n",
    "once more time"
   ]
  }
 ],
 "metadata": {
  "kernelspec": {
   "display_name": "Python 3",
   "language": "python",
   "name": "python3"
  },
  "language_info": {
   "codemirror_mode": {
    "name": "ipython",
    "version": 3
   },
   "file_extension": ".py",
   "mimetype": "text/x-python",
   "name": "python",
   "nbconvert_exporter": "python",
   "pygments_lexer": "ipython3",
   "version": "3.5.6"
  }
 },
 "nbformat": 4,
 "nbformat_minor": 2
}

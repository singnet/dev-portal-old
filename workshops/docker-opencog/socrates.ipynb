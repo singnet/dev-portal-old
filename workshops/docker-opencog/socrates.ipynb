{
 "cells": [
  {
   "cell_type": "code",
   "execution_count": null,
   "metadata": {},
   "outputs": [],
   "source": [
    "import common\n",
    "import os.path\n",
    "from opencog.bindlink import execute_atom, evaluate_atom\n",
    "from opencog.scheme_wrapper import scheme_eval, scheme_eval_h\n",
    "from opencog.atomspace import TruthValue\n",
    "from opencog.backwardchainer import BackwardChainer\n",
    "from opencog.type_constructors import *\n",
    "from opencog.utilities import initialize_opencog\n",
    "from opencog.scheme_wrapper import load_scm\n",
    "import opencog.logger\n"
   ]
  },
  {
   "cell_type": "markdown",
   "metadata": {},
   "source": [
    "initialize atomspace"
   ]
  },
  {
   "cell_type": "code",
   "execution_count": null,
   "metadata": {},
   "outputs": [],
   "source": [
    "atomspace = AtomSpace()\n",
    "initialize_opencog(atomspace)"
   ]
  },
  {
   "cell_type": "markdown",
   "metadata": {},
   "source": [
    "load rule engine and rules"
   ]
  },
  {
   "cell_type": "code",
   "execution_count": null,
   "metadata": {},
   "outputs": [],
   "source": [
    "scheme_eval(atomspace, '(use-modules (opencog))')\n",
    "scheme_eval(atomspace, '(use-modules (opencog exec))')\n",
    "scheme_eval(atomspace, '(use-modules (opencog query))')\n",
    "scheme_eval(atomspace, '(use-modules (opencog rule-engine))')\n",
    "pln_path = os.path.expanduser(\"~/projects/opencog/opencog/pln\")\n",
    "scheme_eval(atomspace, '(add-to-load-path \"{0}\")'.format(pln_path))\n",
    "pln_config_path = os.path.expanduser(\"~/projects/opencog/opencog/pln/pln-config.scm\")\n",
    "scheme_eval(atomspace, '(load-from-path \"{0}\")'.format(pln_config_path))"
   ]
  },
  {
   "cell_type": "markdown",
   "metadata": {},
   "source": [
    "Now specify the problem"
   ]
  },
  {
   "cell_type": "markdown",
   "metadata": {},
   "source": [
    "Socrates is a man, and men are mortal  \n",
    "We know it to some degree"
   ]
  },
  {
   "cell_type": "code",
   "execution_count": null,
   "metadata": {},
   "outputs": [],
   "source": [
    "InheritanceLink(ConceptNode(\"Socrates\"), ConceptNode(\"man\")).tv = TruthValue(0.97, 0.92)\n",
    "InheritanceLink(ConceptNode(\"man\"), ConceptNode(\"mortal\")).tv = TruthValue(0.98, 0.94)\n"
   ]
  },
  {
   "cell_type": "markdown",
   "metadata": {},
   "source": [
    "We would like to know if Socrates is mortal, if that is all we know"
   ]
  },
  {
   "cell_type": "code",
   "execution_count": null,
   "metadata": {},
   "outputs": [],
   "source": [
    "pattern = InheritanceLink(ConceptNode(\"Socrates\"), ConceptNode(\"mortal\"))"
   ]
  },
  {
   "cell_type": "markdown",
   "metadata": {},
   "source": [
    "Specify rule base.  \n",
    "All rule inheriting from ConceptNode(\"PLN\") will be considired by the rule engine"
   ]
  },
  {
   "cell_type": "code",
   "execution_count": null,
   "metadata": {},
   "outputs": [],
   "source": [
    "rule_base = ConceptNode(\"PLN\")"
   ]
  },
  {
   "cell_type": "markdown",
   "metadata": {},
   "source": [
    "Construct BackwardChainer object  \n",
    "It's arguments are atomspace, rule_base, and pattern to infer"
   ]
  },
  {
   "cell_type": "code",
   "execution_count": null,
   "metadata": {},
   "outputs": [],
   "source": [
    "chainer = BackwardChainer(atomspace, rule_base, pattern)\n",
    "chainer.do_chain()\n",
    "print(chainer.get_results())"
   ]
  },
  {
   "cell_type": "markdown",
   "metadata": {},
   "source": [
    "____________________________________________\n",
    "Exercise: modify some truth values and run inference\n",
    "\n",
    "**caveat**: confidence of the changed truth value should be increased"
   ]
  }
 ],
 "metadata": {
  "kernelspec": {
   "display_name": "Python 3",
   "language": "python",
   "name": "python3"
  },
  "language_info": {
   "codemirror_mode": {
    "name": "ipython",
    "version": 3
   },
   "file_extension": ".py",
   "mimetype": "text/x-python",
   "name": "python",
   "nbconvert_exporter": "python",
   "pygments_lexer": "ipython3",
   "version": "3.5.6"
  }
 },
 "nbformat": 4,
 "nbformat_minor": 2
}

{
 "cells": [
  {
   "cell_type": "code",
   "execution_count": null,
   "metadata": {},
   "outputs": [],
   "source": [
    "import common\n",
    "import os.path\n",
    "from opencog.bindlink import execute_atom, evaluate_atom\n",
    "from opencog.scheme_wrapper import scheme_eval, scheme_eval_h\n",
    "from opencog.atomspace import TruthValue\n",
    "from opencog.backwardchainer import BackwardChainer\n",
    "from opencog.type_constructors import *\n",
    "from opencog.utilities import initialize_opencog\n",
    "from opencog.scheme_wrapper import load_scm\n",
    "from opencog.bindlink import bindlink\n",
    "import opencog.logger\n",
    "from opencog.scheme_wrapper import scheme_eval, scheme_eval_h"
   ]
  },
  {
   "cell_type": "code",
   "execution_count": null,
   "metadata": {},
   "outputs": [],
   "source": [
    "atomspace = AtomSpace()\n",
    "initialize_opencog(atomspace)\n"
   ]
  },
  {
   "cell_type": "code",
   "execution_count": null,
   "metadata": {},
   "outputs": [],
   "source": [
    "scheme_eval(atomspace, '(use-modules (opencog))')\n",
    "scheme_eval(atomspace, '(use-modules (opencog exec))')\n",
    "scheme_eval(atomspace, '(use-modules (opencog query))')\n",
    "scheme_eval(atomspace, '(use-modules (opencog rule-engine))')\n",
    "pln_path = os.path.expanduser(\"~/projects/opencog/opencog/pln\")\n",
    "scheme_eval(atomspace, '(add-to-load-path \"{0}\")'.format(pln_path))\n",
    "pln_config_path = os.path.expanduser(\"~/projects/opencog/opencog/pln/pln-config.scm\")\n",
    "scheme_eval(atomspace, '(load-from-path \"{0}\")'.format(pln_config_path))"
   ]
  },
  {
   "cell_type": "code",
   "execution_count": null,
   "metadata": {},
   "outputs": [],
   "source": [
    "\n",
    "def get_deduction_rule(var_a=VariableNode(\"$A\"),\n",
    "                       var_b=VariableNode(\"$B\"),\n",
    "                       var_c=VariableNode(\"$C\")):\n",
    "    BA = InheritanceLink(var_b, var_a)\n",
    "    CB = InheritanceLink(var_c, var_b)\n",
    "    CA = InheritanceLink(var_c, var_a)\n",
    "    condition = AndLink(BA, CB, NotLink(IdenticalLink(var_a, var_c)))\n",
    "    rewrite = ExecutionOutputLink(GroundedSchemaNode(\"scm: deduction-formula\"),\n",
    "                                  ListLink(CA, CB, BA))\n",
    "\n",
    "    deduction_link = BindLink(condition, rewrite)\n",
    "    return deduction_link"
   ]
  },
  {
   "cell_type": "code",
   "execution_count": null,
   "metadata": {},
   "outputs": [],
   "source": [
    "\n",
    "\n",
    "\n",
    "InheritanceLink(ConceptNode(\"Socrates\"), ConceptNode(\"man\")).tv = TruthValue(0.97, 0.92)\n",
    "InheritanceLink(ConceptNode(\"man\"), ConceptNode(\"mortal\")).tv = TruthValue(0.98, 0.94)\n"
   ]
  },
  {
   "cell_type": "code",
   "execution_count": null,
   "metadata": {},
   "outputs": [],
   "source": [
    "deduction_link = get_deduction_rule()"
   ]
  },
  {
   "cell_type": "code",
   "execution_count": null,
   "metadata": {},
   "outputs": [],
   "source": [
    "\n",
    "print(\"running bindlink: \\n{0}\".format(deduction_link))\n",
    "print(bindlink(atomspace, deduction_link))\n"
   ]
  },
  {
   "cell_type": "markdown",
   "metadata": {},
   "source": [
    "Add new link Philosopher <- man"
   ]
  },
  {
   "cell_type": "code",
   "execution_count": null,
   "metadata": {},
   "outputs": [],
   "source": [
    "InheritanceLink(ConceptNode(\"Philosopher\"), ConceptNode(\"man\")).tv = TruthValue(0.79, 0.12)"
   ]
  },
  {
   "cell_type": "code",
   "execution_count": null,
   "metadata": {},
   "outputs": [],
   "source": [
    "print(\"running with the same link and Philosopher\")\n",
    "\n",
    "print(bindlink(atomspace, deduction_link))"
   ]
  },
  {
   "cell_type": "markdown",
   "metadata": {},
   "source": [
    "Replace variables with corresponding ConceptNodes"
   ]
  },
  {
   "cell_type": "code",
   "execution_count": null,
   "metadata": {},
   "outputs": [],
   "source": [
    "deduction_link = get_deduction_rule(var_a=ConceptNode(\"mortal\"),\n",
    "                                    var_c=ConceptNode(\"Socrates\"))"
   ]
  },
  {
   "cell_type": "code",
   "execution_count": null,
   "metadata": {},
   "outputs": [],
   "source": [
    "print(\"running bindlink: \\n{0}\".format(deduction_link))\n",
    "print(bindlink(atomspace, deduction_link))"
   ]
  },
  {
   "cell_type": "markdown",
   "metadata": {},
   "source": [
    "Exercise: replace Socrates with Philosopher"
   ]
  }
 ],
 "metadata": {
  "kernelspec": {
   "display_name": "Python 3",
   "language": "python",
   "name": "python3"
  },
  "language_info": {
   "codemirror_mode": {
    "name": "ipython",
    "version": 3
   },
   "file_extension": ".py",
   "mimetype": "text/x-python",
   "name": "python",
   "nbconvert_exporter": "python",
   "pygments_lexer": "ipython3",
   "version": "3.5.6"
  }
 },
 "nbformat": 4,
 "nbformat_minor": 2
}
